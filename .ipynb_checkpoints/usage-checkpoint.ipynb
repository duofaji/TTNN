{
 "cells": [
  {
   "cell_type": "code",
   "execution_count": 1,
   "id": "22c0b095-bb17-4a97-8b20-5bb58b3200f4",
   "metadata": {},
   "outputs": [
    {
     "name": "stderr",
     "output_type": "stream",
     "text": [
      "D:\\anaconda\\envs\\pytorch1\\lib\\site-packages\\tqdm\\auto.py:22: TqdmWarning: IProgress not found. Please update jupyter and ipywidgets. See https://ipywidgets.readthedocs.io/en/stable/user_install.html\n",
      "  from .autonotebook import tqdm as notebook_tqdm\n"
     ]
    }
   ],
   "source": [
    "from TTNN.model import predictor\n",
    "import numpy as np\n",
    "\n",
    "dep_predict, dis1_predict, dis2_predict, dis3_predict, dis4_predict = predictor(input_waveform1='sampleData/waveform1.npy',\n",
    "                                                                                input_waveform2='sampleData/waveform2.npy',\n",
    "                                                                                input_waveform3='sampleData/waveform3.npy',\n",
    "                                                                                input_waveform4='sampleData/waveform4.npy',\n",
    "                                                                                input_model=\"Model/model_TTNN.pth\")"
   ]
  },
  {
   "cell_type": "code",
   "execution_count": 2,
   "id": "c59f2fa4-7451-4614-bc70-895c3776b7b8",
   "metadata": {},
   "outputs": [],
   "source": [
    "np.save('sampleData/dep_predict', dep_predict)\n",
    "np.save('sampleData/dis1_predict', dis1_predict)\n",
    "np.save('sampleData/dis2_predict', dis2_predict)\n",
    "np.save('sampleData/dis3_predict', dis3_predict)\n",
    "np.save('sampleData/dis4_predict', dis4_predict)"
   ]
  },
  {
   "cell_type": "code",
   "execution_count": 3,
   "id": "dd4d0c4f",
   "metadata": {},
   "outputs": [
    {
     "name": "stdout",
     "output_type": "stream",
     "text": [
      "mean error of depth estimation: -0.03961990547180201 \n",
      "MAE of depth estimation: 0.2560665988922119 \n",
      "standard deviation of depth estimation error: 0.3112457264371422 \n",
      "R-squared of depth estimation: 0.9965226592890273 \n",
      "mean error of distance estimation: 0.22100229978561425 \n",
      "MAE of distance estimation: 1.0168991265296938 \n",
      "standard deviation of distance estimation error: 1.2847720899956998 \n",
      "R-squared of distance estimation: 0.9980714508202835\n"
     ]
    }
   ],
   "source": [
    "from TTNN.evaluation import evaluate\n",
    "from TTNN.evaluation import calculate_epicenter\n",
    "\n",
    "dep_mean_error, dep_mae, dep_std, dep_r2, dis_mean_error, dis_mae, dis_std, dis_r2 = evaluate(dep_predict_dir='sampleData/dep_predict.npy',\n",
    "                                                                                              dis1_predict_dir='sampleData/dis1_predict.npy',\n",
    "                                                                                              dis2_predict_dir='sampleData/dis2_predict.npy',\n",
    "                                                                                              dis3_predict_dir='sampleData/dis3_predict.npy',\n",
    "                                                                                              dis4_predict_dir='sampleData/dis4_predict.npy',\n",
    "                                                                                              metadata1='sampleData/metadata1.csv',\n",
    "                                                                                              metadata2='sampleData/metadata2.csv',\n",
    "                                                                                              metadata3='sampleData/metadata3.csv',\n",
    "                                                                                              metadata4='sampleData/metadata4.csv')\n",
    "\n",
    "print('mean error of depth estimation:', dep_mean_error,\n",
    "      '\\nMAE of depth estimation:', dep_mae,\n",
    "      '\\nstandard deviation of depth estimation error:', dep_std,\n",
    "      '\\nR-squared of depth estimation:', dep_r2,\n",
    "      '\\nmean error of distance estimation:', dis_mean_error,\n",
    "      '\\nMAE of distance estimation:', dis_mae,\n",
    "      '\\nstandard deviation of distance estimation error:', dis_std,\n",
    "      '\\nR-squared of distance estimation:', dis_r2)"
   ]
  },
  {
   "cell_type": "code",
   "execution_count": 4,
   "id": "2b839b5d",
   "metadata": {},
   "outputs": [
    {
     "name": "stderr",
     "output_type": "stream",
     "text": [
      "100%|██████████████████████████████████████████████████████████████████████████████████| 10/10 [02:52<00:00, 17.27s/it]"
     ]
    },
    {
     "name": "stdout",
     "output_type": "stream",
     "text": [
      "[33.47960475 33.47960475 33.63960475 33.47960475 33.85960475 33.57960475\n",
      " 33.46960475 34.19960475 33.57960475 35.86      ]\n",
      "[-116.5743855 -116.5943855 -116.7343855 -116.5843855 -116.1943855\n",
      " -116.8143855 -116.5943855 -117.0043855 -116.6343855 -117.6778   ]\n"
     ]
    },
    {
     "name": "stderr",
     "output_type": "stream",
     "text": [
      "\n"
     ]
    }
   ],
   "source": [
    "eq_lat_pre, eq_lon_pre = calculate_epicenter(dep_predict_dir='sampleData/dep_predict.npy',\n",
    "                                             dis1_predict_dir='sampleData/dis1_predict.npy',\n",
    "                                             dis2_predict_dir='sampleData/dis2_predict.npy',\n",
    "                                             dis3_predict_dir='sampleData/dis3_predict.npy',\n",
    "                                             dis4_predict_dir='sampleData/dis4_predict.npy',\n",
    "                                             metadata1='sampleData/metadata1.csv',\n",
    "                                             metadata2='sampleData/metadata2.csv',\n",
    "                                             metadata3='sampleData/metadata3.csv',\n",
    "                                             metadata4='sampleData/metadata4.csv')\n",
    "\n",
    "print(eq_lat_pre)\n",
    "print(eq_lon_pre)"
   ]
  },
  {
   "cell_type": "code",
   "execution_count": null,
   "id": "0713d14c",
   "metadata": {},
   "outputs": [],
   "source": []
  }
 ],
 "metadata": {
  "kernelspec": {
   "display_name": "Python [conda env:Anaconda-pytorch1]",
   "language": "python",
   "name": "conda-env-Anaconda-pytorch1-py"
  },
  "language_info": {
   "codemirror_mode": {
    "name": "ipython",
    "version": 3
   },
   "file_extension": ".py",
   "mimetype": "text/x-python",
   "name": "python",
   "nbconvert_exporter": "python",
   "pygments_lexer": "ipython3",
   "version": "3.10.12"
  }
 },
 "nbformat": 4,
 "nbformat_minor": 5
}
