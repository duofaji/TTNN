{
 "cells": [
  {
   "cell_type": "code",
   "execution_count": null,
   "id": "22c0b095-bb17-4a97-8b20-5bb58b3200f4",
   "metadata": {},
   "outputs": [],
   "source": [
    "from TTNN.model import predictor\n",
    "import numpy as np\n",
    "\n",
    "dep_predict, dis1_predict, dis2_predict, dis3_predict, dis4_predict = predictor(input_waveform1='sampleData/waveform1.npy',\n",
    "                                                                                input_waveform2='sampleData/waveform2.npy',\n",
    "                                                                                input_waveform3='sampleData/waveform3.npy',\n",
    "                                                                                input_waveform4='sampleData/waveform4.npy',\n",
    "                                                                                input_model=\"Model/model_TTNN.pth\")"
   ]
  }
 ],
 "metadata": {
  "kernelspec": {
   "display_name": "Python 3 (ipykernel)",
   "language": "python",
   "name": "python3"
  },
  "language_info": {
   "codemirror_mode": {
    "name": "ipython",
    "version": 3
   },
   "file_extension": ".py",
   "mimetype": "text/x-python",
   "name": "python",
   "nbconvert_exporter": "python",
   "pygments_lexer": "ipython3",
   "version": "3.11.5"
  }
 },
 "nbformat": 4,
 "nbformat_minor": 5
}
